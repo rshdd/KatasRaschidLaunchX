{
 "cells": [
  {
   "cell_type": "markdown",
   "metadata": {},
   "source": [
    "# Ejercicio - Uso de operadores and y or"
   ]
  },
  {
   "cell_type": "markdown",
   "metadata": {},
   "source": [
    "### Problema 1"
   ]
  },
  {
   "cell_type": "code",
   "execution_count": 6,
   "metadata": {},
   "outputs": [
    {
     "name": "stdout",
     "output_type": "stream",
     "text": [
      "No hay problema alguno, ten un excelente día\n"
     ]
    }
   ],
   "source": [
    "asteroide = int(input(\"Dame la velocidad del Asteroide\"))\n",
    "if asteroide > 25:\n",
    "    print('Cuidado, El asteroide viene muy rápido hacia nosotros')\n",
    "else:\n",
    "    print('No hay problema alguno, ten un excelente día')"
   ]
  },
  {
   "cell_type": "markdown",
   "metadata": {},
   "source": [
    "### Problema 2"
   ]
  },
  {
   "cell_type": "code",
   "execution_count": 7,
   "metadata": {},
   "outputs": [
    {
     "name": "stdout",
     "output_type": "stream",
     "text": [
      "Mira! El Asteroide se ve muy padre\n"
     ]
    }
   ],
   "source": [
    "asteroide = int(input(\"Dame la velocidad del Asteroide\"))\n",
    "if asteroide > 20:\n",
    "    print('Mira! El Asteroide se ve muy padre')\n",
    "elif asteroide == 20:\n",
    "    print('Mira! El Asteroide se ve muy padre')\n",
    "else:\n",
    "    print('No hay problema alguno, ten un excelente día')"
   ]
  },
  {
   "cell_type": "markdown",
   "metadata": {},
   "source": [
    "### Problema 3"
   ]
  },
  {
   "cell_type": "code",
   "execution_count": 8,
   "metadata": {},
   "outputs": [
    {
     "name": "stdout",
     "output_type": "stream",
     "text": [
      "No hay problema alguno, ten un excelente día\n"
     ]
    }
   ],
   "source": [
    "tamano_asteroide = int(input(\"Dame la velocidad del Asteroide\"))\n",
    "velocidad_asteroide = int(input(\"Dame la velocidad del Asteroide\"))\n",
    "if velocidad_asteroide > 25 and tamano_asteroide > 25:\n",
    "    print('Cuidado, El asteroide viene muy rápido hacia nosotros')\n",
    "elif velocidad_asteroide >= 20:\n",
    "    print('Mira! El Asteroide se ve muy padre')\n",
    "elif tamano_asteroide < 25:\n",
    "    print('No hay problema alguno, ten un excelente día')\n",
    "else:\n",
    "    print('No hay problema alguno, ten un excelente día')"
   ]
  }
 ],
 "metadata": {
  "interpreter": {
   "hash": "49fdda9a8f1b43ecf94cbf6adfec0c9149aed4e40f425dad389976f3db3c5b4b"
  },
  "kernelspec": {
   "display_name": "Python 3.10.2 64-bit",
   "language": "python",
   "name": "python3"
  },
  "language_info": {
   "codemirror_mode": {
    "name": "ipython",
    "version": 3
   },
   "file_extension": ".py",
   "mimetype": "text/x-python",
   "name": "python",
   "nbconvert_exporter": "python",
   "pygments_lexer": "ipython3",
   "version": "3.10.2"
  },
  "orig_nbformat": 4
 },
 "nbformat": 4,
 "nbformat_minor": 2
}
